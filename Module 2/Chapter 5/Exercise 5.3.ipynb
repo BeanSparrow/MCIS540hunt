{
 "cells": [
  {
   "cell_type": "markdown",
   "metadata": {},
   "source": [
    "# Chapter 5 Exercise 3"
   ]
  },
  {
   "cell_type": "markdown",
   "metadata": {},
   "source": [
    "#### Problem:\n",
    "\n",
    "#### Write a function named check_fermat that takes four parameters—a, b, c and n—and that checks to see if Fermat’s theorem holds. If n is greater than 2 and it turns out to be true that\n",
    "#### *an + bn = cn* \n",
    "#### the program should print, “Holy smokes, Fermat was wrong!” Otherwise the program should print, “No, that doesn’t work.” Write the function so that it prompts the user to input values for a, b, c and n, converts them to integers, and uses check_fermat to check whther they violate Fermat's theorem."
   ]
  },
  {
   "cell_type": "code",
   "execution_count": 1,
   "metadata": {},
   "outputs": [
    {
     "name": "stdout",
     "output_type": "stream",
     "text": [
      "Enter A B C and N\n",
      "12 93 48 13\n",
      "No, that doesn't work.\n"
     ]
    }
   ],
   "source": [
    "# Checks the Values against Fermat's Theorem\n",
    "def check_fermat(a, b, c, n):\n",
    "    fermatFirst = ((a**n)+(b**n))\n",
    "    fermatSecond = (c**n)\n",
    "    # print(fermatFirst)\n",
    "    # print(fermatSecond)\n",
    "    if fermatFirst == fermatSecond:\n",
    "        print('Holy smokes, Fermat was wrong!')\n",
    "    else:\n",
    "        print('No, that doesn\\'t work.')\n",
    "\n",
    "\n",
    "# Main function\n",
    "def main():\n",
    "    # Gets all Fermat Values\n",
    "    fermatA, fermatB, fermatC, fermatN = map(\n",
    "        int, input('Enter A B C and N\\n').split())\n",
    "    # Runs Theorem Check\n",
    "    check_fermat(fermatA, fermatB, fermatC, fermatN)\n",
    "\n",
    "\n",
    "main()"
   ]
  },
  {
   "cell_type": "code",
   "execution_count": null,
   "metadata": {},
   "outputs": [],
   "source": []
  }
 ],
 "metadata": {
  "kernelspec": {
   "display_name": "Python 3",
   "language": "python",
   "name": "python3"
  },
  "language_info": {
   "codemirror_mode": {
    "name": "ipython",
    "version": 3
   },
   "file_extension": ".py",
   "mimetype": "text/x-python",
   "name": "python",
   "nbconvert_exporter": "python",
   "pygments_lexer": "ipython3",
   "version": "3.8.5"
  }
 },
 "nbformat": 4,
 "nbformat_minor": 4
}
