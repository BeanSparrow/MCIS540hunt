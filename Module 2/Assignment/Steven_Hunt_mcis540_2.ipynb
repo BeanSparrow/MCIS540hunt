{
 "cells": [
  {
   "cell_type": "markdown",
   "metadata": {},
   "source": [
    "# Module 2 Assignment\n",
    "#### Created by: Steven Hunt"
   ]
  },
  {
   "cell_type": "markdown",
   "metadata": {},
   "source": [
    "#### 2.1 Using a for loop, write a program that prints out the decimal equivalents of 1/2, 1/3, 1/4, ..., 1/10."
   ]
  },
  {
   "cell_type": "code",
   "execution_count": 1,
   "metadata": {},
   "outputs": [
    {
     "name": "stdout",
     "output_type": "stream",
     "text": [
      "0.5\n",
      "0.3333333333333333\n",
      "0.25\n",
      "0.2\n",
      "0.16666666666666666\n",
      "0.14285714285714285\n",
      "0.125\n",
      "0.1111111111111111\n",
      "0.1\n"
     ]
    }
   ],
   "source": [
    "# Function to convert fraction to Decimals\n",
    "def fractions_to_decimals():\n",
    "    # For loop range of 9 is 0 - 8\n",
    "    for i in range(9):\n",
    "        decimal_value = 1 / (i+2) # (i+2) Changes the range to 2-10\n",
    "        print(decimal_value)\n",
    "\n",
    "fractionsToDecimals()"
   ]
  },
  {
   "cell_type": "markdown",
   "metadata": {},
   "source": [
    "#### 2.2 Write a program using a while loop that asks the user to enter a number that is divisible by 2. Give the user a witty message if they enter something that is not divisible by 2 and make them enter a new number. Don’t let them stop until they enter an even number! Print a congratulatory message when they *ﬁnally* get it right."
   ]
  },
  {
   "cell_type": "code",
   "execution_count": 70,
   "metadata": {},
   "outputs": [
    {
     "name": "stdout",
     "output_type": "stream",
     "text": [
      "Enter a number that is divisible by 2: \n",
      "number\n",
      "That is not a number, try again!\n",
      "\n",
      "Enter a number that is divisible by 2: \n",
      "12$\n",
      "That is not a number, try again!\n",
      "\n",
      "Enter a number that is divisible by 2: \n",
      "13\n",
      "That numbers not divisible by 2, try again!\n",
      "\n",
      "Enter a number that is divisible by 2: \n",
      "12\n",
      "Great! That number is divisible by 2!\n",
      "\n"
     ]
    }
   ],
   "source": [
    "# This Function requests input from the user and checks if it is a number,\n",
    "def get_integer():\n",
    "    loop_flag = True\n",
    "    while loop_flag:\n",
    "        try:\n",
    "            input_value = int(input('Enter a number that is divisible by 2: \\n'))\n",
    "            loop_flag = False\n",
    "        except:\n",
    "            print('That is not a number, try again!\\n')\n",
    "    return input_value\n",
    "\n",
    "# This Function calls the getInteger() function and checks if the value is divisble by 2\n",
    "def is_divisible_by_two():\n",
    "    loop_flag = True\n",
    "    while loop_flag:\n",
    "        input_value = get_integer()\n",
    "        if input_value % 2 == 0:\n",
    "            print('Great! That number is divisible by 2!\\n')\n",
    "            loop_flag = False\n",
    "        else:\n",
    "            print('That numbers not divisible by 2, try again!\\n')\n",
    "\n",
    "is_divisible_by_two()"
   ]
  },
  {
   "cell_type": "markdown",
   "metadata": {},
   "source": [
    "#### 2.3 Pig Latin is a game taking the ﬁrst letter of a word, puts it at the end, and appends “ay”. The exception is if the ﬁrst letter is a vowel, you keep it as it is and append “hay” to the end.\n",
    "#### E.g. “boot” → “ootbay” and “image” → “imagehay”\n",
    "#### Write a program using a while loop that asks the user to enter a word (see 2 for user input functions), then converts the word to Pig Latin. "
   ]
  },
  {
   "cell_type": "code",
   "execution_count": 69,
   "metadata": {},
   "outputs": [
    {
     "name": "stdout",
     "output_type": "stream",
     "text": [
      "Enter a word to convert to Pig Latin: \n",
      "Assi12gnment\n",
      "That is not a word, try again!\n",
      "\n",
      "Enter a word to convert to Pig Latin: \n",
      "Assign$#ment\n",
      "That is not a word, try again!\n",
      "\n",
      "Enter a word to convert to Pig Latin: \n",
      "Assignment\n",
      "Assignmenthay\n",
      "Would you like to continue? (Y/N)\n",
      "Y\n",
      "Enter a word to convert to Pig Latin: \n",
      "Module\n",
      "oduleMay\n",
      "Would you like to continue? (Y/N)\n",
      "N\n"
     ]
    }
   ],
   "source": [
    "# Function gets input from User and checks that it only contains alpha characters\n",
    "def get_word():\n",
    "    loop_flag = True\n",
    "    while loop_flag:\n",
    "        input_word = input('Enter a word to convert to Pig Latin: \\n')\n",
    "        \n",
    "        # Determines if the Input contains only alpha characters\n",
    "        is_valid_word = input_word.isalpha()\n",
    "        if is_valid_word:\n",
    "            loop_flag = False\n",
    "            return input_word\n",
    "        else:\n",
    "            print('That is not a word, try again!\\n')\n",
    "\n",
    "# Function Asks user if they want to loop the program again.\n",
    "def continue_convert():\n",
    "    loop_flag = True\n",
    "    while loop_flag:\n",
    "        continue_check = input('Would you like to continue? (Y/N)\\n')\n",
    "        if continue_check.lower() == 'y':\n",
    "            loop_flag == False\n",
    "            return True\n",
    "        elif continue_check.lower() == 'n':\n",
    "            loop_flag == False\n",
    "            return False\n",
    "        else:\n",
    "            print('That is not a valid response.\\n')\n",
    "\n",
    "# Function takes user input and converts the word to Pig Latin\n",
    "def convert_pig_latin():\n",
    "    # Initializing a List of Vowels to check against\n",
    "    vowels = ['a', 'e', 'i', 'o', 'u']\n",
    "    loop_flag = True\n",
    "    while loop_flag:\n",
    "        input_word = get_word()\n",
    "        if input_word[0].lower() in vowels:\n",
    "            print(f'{input_word}hay')\n",
    "        else:\n",
    "            print(f'{input_word[1:]}{input_word[0]}ay')\n",
    "        continue_check = continue_convert()\n",
    "        if continue_check == False:\n",
    "            loop_flag = False\n",
    "         \n",
    "convert_pig_latin()"
   ]
  },
  {
   "cell_type": "markdown",
   "metadata": {},
   "source": [
    "#### 2.4 Write a program to combine the following two lists into a dictionary (hint: what should the keys, and what should the values, of this dictionary be? ):\n",
    "#### NAMES = [’Alice’, ’Bob’, ’Cathy’, ’Dan’, ’Ed’, ’Frank’, ’Gary’, ’Helen’, ’Irene’, ’Jack’, ’Kelly’, ’Larry’]\n",
    "#### AGES = [20, 21, 18, 18, 19, 20, 20, 19, 19, 19, 22, 19]\n",
    "#### These lists match up, so Alice’s age is 20, Bob’s age is 21, and so on."
   ]
  },
  {
   "cell_type": "code",
   "execution_count": 68,
   "metadata": {},
   "outputs": [
    {
     "name": "stdout",
     "output_type": "stream",
     "text": [
      "Original key list is: ['Alice', 'Bob', 'Cathy', 'Dan', 'Ed', 'Frank', 'Gary', 'Helen', 'Irene', 'Jack', 'Kelly', 'Larry'] \n",
      "\n",
      "Original value list is: [20, 21, 18, 18, 19, 20, 20, 19, 19, 19, 22, 19] \n",
      "\n",
      "New dictionary: {'Alice': 19, 'Bob': 19, 'Cathy': 19, 'Dan': 19, 'Ed': 19, 'Frank': 19, 'Gary': 19, 'Helen': 19, 'Irene': 19, 'Jack': 19, 'Kelly': 19, 'Larry': 19}\n"
     ]
    }
   ],
   "source": [
    "# Function takes two lists of same length and makes the first keys and the second values in a new dictionary\n",
    "def create_dictionary(names, ages):\n",
    "    #Check if the Lists have the same length\n",
    "    if len(names) == len(ages):\n",
    "        new_dict = {}\n",
    "        for key in names:\n",
    "            for value in ages:\n",
    "               new_dict[key] = value\n",
    "            \n",
    "        #Print the new dictionary    \n",
    "        print(f'New dictionary: {new_dict}')\n",
    "        \n",
    "    else:\n",
    "        print('Lists are not of equal length.')\n",
    "# Main function   \n",
    "def main():\n",
    "    # List Initialization\n",
    "    names = ['Alice', 'Bob', 'Cathy', 'Dan', 'Ed', 'Frank', 'Gary', 'Helen', 'Irene', 'Jack', 'Kelly', 'Larry']\n",
    "    ages = [20, 21, 18, 18, 19, 20, 20, 19, 19, 19, 22, 19]\n",
    "    \n",
    "    # Printing original keys-value lists\n",
    "    print (f'Original key list is: {names} \\n')\n",
    "    print (f'Original value list is: {ages} \\n')\n",
    "    \n",
    "    # Pass the two lists to create_dictionary() function\n",
    "    create_dictionary(names, ages)\n",
    "    \n",
    "main()"
   ]
  },
  {
   "cell_type": "code",
   "execution_count": null,
   "metadata": {},
   "outputs": [],
   "source": []
  }
 ],
 "metadata": {
  "kernelspec": {
   "display_name": "Python 3",
   "language": "python",
   "name": "python3"
  },
  "language_info": {
   "codemirror_mode": {
    "name": "ipython",
    "version": 3
   },
   "file_extension": ".py",
   "mimetype": "text/x-python",
   "name": "python",
   "nbconvert_exporter": "python",
   "pygments_lexer": "ipython3",
   "version": "3.8.5"
  }
 },
 "nbformat": 4,
 "nbformat_minor": 4
}
