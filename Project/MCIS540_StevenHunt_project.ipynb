{
 "metadata": {
  "language_info": {
   "codemirror_mode": {
    "name": "ipython",
    "version": 3
   },
   "file_extension": ".py",
   "mimetype": "text/x-python",
   "name": "python",
   "nbconvert_exporter": "python",
   "pygments_lexer": "ipython3",
   "version": "3.8.5"
  },
  "orig_nbformat": 2,
  "kernelspec": {
   "name": "python385jvsc74a57bd0c88ce19b7901f31b9afaea832c420e53db60c0ac953f532b4c17b7b2e6d7b566",
   "display_name": "Python 3.8.5 64-bit ('base': conda)"
  }
 },
 "nbformat": 4,
 "nbformat_minor": 2,
 "cells": [
  {
   "source": [
    "# MCIS 540 - Project"
   ],
   "cell_type": "markdown",
   "metadata": {}
  },
  {
   "cell_type": "code",
   "execution_count": 40,
   "metadata": {},
   "outputs": [],
   "source": [
    "import pandas as pd\n",
    "import re\n",
    "import tkinter as tk \n",
    "from functools import partial\n",
    "\n",
    "columns_used = {9:'Estimated Count of Children in Poverty', 12: 'Estimated Percent of Children in poverty', 21 :'Median Household Income', 23: 'County Name' }\n",
    "url=\"https://www2.census.gov/programs-surveys/saipe/datasets/2016/2016-state-and-county/est16-pa.txt\"\n",
    "df = pd.read_fwf(url, header = None, skiprows = 1, usecols=list(columns_used.keys()))\n",
    "\n",
    "df.rename(columns = columns_used, inplace=True)"
   ]
  },
  {
   "cell_type": "code",
   "execution_count": 35,
   "metadata": {
    "tags": []
   },
   "outputs": [
    {
     "output_type": "stream",
     "name": "stdout",
     "text": [
      "Highest Percent Child Poverty:\n",
      "County Name \t \t \t Forest County\n",
      "Percent of Children in Poverty \t 43.4%\n",
      "Number of Children in Poverty\t 94\n",
      "Median Household Income \t $35267\n",
      "\n",
      "Lowest Percent Child Poverty:\n",
      "County Name \t \t \t Chester County\n",
      "Percent of Children in Poverty \t 6.1%\n",
      "Number of Children in Poverty\t 7212\n",
      "Median Household Income \t $89915\n",
      "\n",
      "County Name \t \t \t Forest County\n",
      "Percent of Children in Poverty \t 43.4%\n",
      "Number of Children in Poverty\t 94\n",
      "Median Household Income \t $35267\n",
      "\n",
      "County Name \t \t \t Bucks County\n",
      "Percent of Children in Poverty \t 6.6%\n",
      "Number of Children in Poverty\t 8555\n",
      "Median Household Income \t $77618\n",
      "\n"
     ]
    }
   ],
   "source": [
    "highest_percent = df['Estimated Percent of Children in poverty'].idxmax()\n",
    "\n",
    "def print_data(index):\n",
    "    county_name = df.loc[index, 'County Name']\n",
    "    percentage = df.loc[index, 'Estimated Percent of Children in poverty']\n",
    "    count = df.loc[index, 'Estimated Count of Children in Poverty']\n",
    "    income = df.loc[index, 'Median Household Income']\n",
    "    print(f'County Name \\t \\t \\t {county_name}')\n",
    "    print(f'Percent of Children in Poverty \\t {percentage}%')\n",
    "    print(f'Number of Children in Poverty\\t {count}')\n",
    "    print(f'Median Household Income \\t ${income}\\n')\n",
    "\n",
    "def print_highest_data():\n",
    "    highest_percent = df['Estimated Percent of Children in poverty'].idxmax()\n",
    "    print('Highest Percent Child Poverty:')\n",
    "    print_data(highest_percent)\n",
    "\n",
    "def print_lowest_data():\n",
    "    lowest_percent = df['Estimated Percent of Children in poverty'].idxmin()\n",
    "    print('Lowest Percent Child Poverty:')\n",
    "    print_data(lowest_percent)\n",
    "\n",
    "def print_county_data():\n",
    "    loop_flag = True\n",
    "    while loop_flag:\n",
    "        input_county_name = input('Enter County Name (\"q\" or \"quit\" to exit)')\n",
    "\n",
    "        if input_county_name == 'q' or input_county_name == 'quit':\n",
    "            break\n",
    "        else:\n",
    "            try:\n",
    "                index = int(df[df['County Name'].str.contains(input_county_name, flags=re.IGNORECASE,)].index.values)\n",
    "                county_name = df.loc[index, 'County Name']\n",
    "                percentage = df.loc[index, 'Estimated Percent of Children in poverty']\n",
    "                count = df.loc[index, 'Estimated Count of Children in Poverty']\n",
    "                income = df.loc[index, 'Median Household Income']\n",
    "                print(f'County Name \\t \\t \\t {county_name}')\n",
    "                print(f'Percent of Children in Poverty \\t {percentage}%')\n",
    "                print(f'Number of Children in Poverty\\t {count}')\n",
    "                print(f'Median Household Income \\t ${income}\\n')\n",
    "            except:\n",
    "                print('That is not a county name.')\n",
    "\n",
    "def main():\n",
    "    print_highest_data()\n",
    "    print_lowest_data()\n",
    "    print_county_data()\n",
    "\n",
    "main()\n"
   ]
  },
  {
   "cell_type": "code",
   "execution_count": 77,
   "metadata": {},
   "outputs": [],
   "source": [
    "#tkinter GUI\n",
    "\n",
    "def values(): \n",
    "    highest_data.place(x=200, y=200)\n",
    "    \n",
    "root = tk.Tk()\n",
    "\n",
    "root.title('County Data for Pennsylvania')\n",
    "root.geometry('500x500')\n",
    "\n",
    "highest_percent = df['Estimated Percent of Children in poverty'].idxmax()\n",
    "highest_data = tk.Text(root, width = 30, height = 5)\n",
    "highest_data.insert(tk.INSERT, df.loc[highest_percent, 'County Name'])\n",
    "highest_data.insert(tk.INSERT, '\\n')\n",
    "highest_data.insert(tk.INSERT, df.loc[highest_percent, 'Estimated Percent of Children in poverty'])\n",
    "highest_data.insert(tk.INSERT, '\\n')\n",
    "highest_data.insert(tk.INSERT, df.loc[highest_percent, 'Estimated Count of Children in Poverty'])\n",
    "highest_data.insert(tk.INSERT, '\\n')\n",
    "highest_data.insert(tk.INSERT, df.loc[highest_percent, 'Median Household Income'])\n",
    "highest_data.place(x=25, y=200)\n",
    "\n",
    "label1 = tk.Label(root, text='County Name: ')\n",
    "label1.place(x=25,y=25)\n",
    "\n",
    "entry1 = tk.Entry(root)\n",
    "entry1.place(x=125, y=25)\n",
    "\n",
    "btn = tk.Button(root, text='Press Here', command=values())\n",
    "btn.pack(side = tk.BOTTOM)\n",
    "\n",
    "root.mainloop()"
   ]
  },
  {
   "cell_type": "code",
   "execution_count": null,
   "metadata": {},
   "outputs": [],
   "source": []
  }
 ]
}