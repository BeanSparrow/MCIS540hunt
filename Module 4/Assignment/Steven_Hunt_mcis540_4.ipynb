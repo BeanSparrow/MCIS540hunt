{
 "metadata": {
  "language_info": {
   "codemirror_mode": {
    "name": "ipython",
    "version": 3
   },
   "file_extension": ".py",
   "mimetype": "text/x-python",
   "name": "python",
   "nbconvert_exporter": "python",
   "pygments_lexer": "ipython3",
   "version": "3.8.5"
  },
  "orig_nbformat": 2,
  "kernelspec": {
   "name": "python385jvsc74a57bd0c88ce19b7901f31b9afaea832c420e53db60c0ac953f532b4c17b7b2e6d7b566",
   "display_name": "Python 3.8.5 64-bit ('base': conda)"
  }
 },
 "nbformat": 4,
 "nbformat_minor": 2,
 "cells": [
  {
   "source": [
    "# Module 4 Assignment"
   ],
   "cell_type": "markdown",
   "metadata": {}
  },
  {
   "source": [
    "#### 4.1 Given three lists: list_1 = [1,2,3,4,16], list_2=[\"1\",\"2\",\"3\",\"4\",\"F\"], and list_3= [\"PA\",\"NJ\"]\n",
    "#### 4.2 Create a data frame using pandas package and the above lists so that list_1 and list_2 are indexed by list_3"
   ],
   "cell_type": "markdown",
   "metadata": {}
  },
  {
   "cell_type": "code",
   "execution_count": 11,
   "metadata": {},
   "outputs": [
    {
     "output_type": "execute_result",
     "data": {
      "text/plain": [
       "    0  1  2  3   4\n",
       "PA  1  2  3  4  16\n",
       "NJ  1  2  3  4   F"
      ],
      "text/html": "<div>\n<style scoped>\n    .dataframe tbody tr th:only-of-type {\n        vertical-align: middle;\n    }\n\n    .dataframe tbody tr th {\n        vertical-align: top;\n    }\n\n    .dataframe thead th {\n        text-align: right;\n    }\n</style>\n<table border=\"1\" class=\"dataframe\">\n  <thead>\n    <tr style=\"text-align: right;\">\n      <th></th>\n      <th>0</th>\n      <th>1</th>\n      <th>2</th>\n      <th>3</th>\n      <th>4</th>\n    </tr>\n  </thead>\n  <tbody>\n    <tr>\n      <th>PA</th>\n      <td>1</td>\n      <td>2</td>\n      <td>3</td>\n      <td>4</td>\n      <td>16</td>\n    </tr>\n    <tr>\n      <th>NJ</th>\n      <td>1</td>\n      <td>2</td>\n      <td>3</td>\n      <td>4</td>\n      <td>F</td>\n    </tr>\n  </tbody>\n</table>\n</div>"
     },
     "metadata": {},
     "execution_count": 11
    }
   ],
   "source": [
    "import pandas as pd\n",
    "\n",
    "list_1 = [1, 2, 3, 4, 16]\n",
    "list_2 = ['1', '2', '3', '4', 'F']\n",
    "list_3 = ['PA', 'NJ']\n",
    "\n",
    "df = pd.DataFrame(list(zip(list_1, list_2)), columns = list_3) # I could have also stored both lists in a a new list and used list_3 as an index, list(zip()) requires less lines of code.\n",
    "df.transpose() # Transposing because I used list_3 as columns instead of index originally\n",
    "\n"
   ]
  },
  {
   "source": [
    "#### 4.3 Multiply every value by 5 (hint: use anonymous function, i.e. lamda function: e.g. df.apply(lamda x: x*2) will multiply every value by 2). Use markdown cells to discuss if there are problems with the results."
   ],
   "cell_type": "markdown",
   "metadata": {}
  },
  {
   "cell_type": "code",
   "execution_count": 19,
   "metadata": {},
   "outputs": [
    {
     "output_type": "execute_result",
     "data": {
      "text/plain": [
       "        0      1      2      3      4\n",
       "PA      5     10     15     20     80\n",
       "NJ  11111  22222  33333  44444  FFFFF"
      ],
      "text/html": "<div>\n<style scoped>\n    .dataframe tbody tr th:only-of-type {\n        vertical-align: middle;\n    }\n\n    .dataframe tbody tr th {\n        vertical-align: top;\n    }\n\n    .dataframe thead th {\n        text-align: right;\n    }\n</style>\n<table border=\"1\" class=\"dataframe\">\n  <thead>\n    <tr style=\"text-align: right;\">\n      <th></th>\n      <th>0</th>\n      <th>1</th>\n      <th>2</th>\n      <th>3</th>\n      <th>4</th>\n    </tr>\n  </thead>\n  <tbody>\n    <tr>\n      <th>PA</th>\n      <td>5</td>\n      <td>10</td>\n      <td>15</td>\n      <td>20</td>\n      <td>80</td>\n    </tr>\n    <tr>\n      <th>NJ</th>\n      <td>11111</td>\n      <td>22222</td>\n      <td>33333</td>\n      <td>44444</td>\n      <td>FFFFF</td>\n    </tr>\n  </tbody>\n</table>\n</div>"
     },
     "metadata": {},
     "execution_count": 19
    }
   ],
   "source": [
    "df.apply(lambda x: x * 5).transpose() # Multiplies the values by 5"
   ]
  },
  {
   "source": [
    "Due to the fact that the NJ data was inserted as a string the multiplication results in the string being repeated 5 times."
   ],
   "cell_type": "markdown",
   "metadata": {}
  },
  {
   "cell_type": "code",
   "execution_count": 22,
   "metadata": {},
   "outputs": [
    {
     "output_type": "execute_result",
     "data": {
      "text/plain": [
       "      0    1    2    3     4\n",
       "PA  1.0  2.0  3.0  4.0  16.0\n",
       "NJ  1.0  2.0  3.0  4.0   NaN"
      ],
      "text/html": "<div>\n<style scoped>\n    .dataframe tbody tr th:only-of-type {\n        vertical-align: middle;\n    }\n\n    .dataframe tbody tr th {\n        vertical-align: top;\n    }\n\n    .dataframe thead th {\n        text-align: right;\n    }\n</style>\n<table border=\"1\" class=\"dataframe\">\n  <thead>\n    <tr style=\"text-align: right;\">\n      <th></th>\n      <th>0</th>\n      <th>1</th>\n      <th>2</th>\n      <th>3</th>\n      <th>4</th>\n    </tr>\n  </thead>\n  <tbody>\n    <tr>\n      <th>PA</th>\n      <td>1.0</td>\n      <td>2.0</td>\n      <td>3.0</td>\n      <td>4.0</td>\n      <td>16.0</td>\n    </tr>\n    <tr>\n      <th>NJ</th>\n      <td>1.0</td>\n      <td>2.0</td>\n      <td>3.0</td>\n      <td>4.0</td>\n      <td>NaN</td>\n    </tr>\n  </tbody>\n</table>\n</div>"
     },
     "metadata": {},
     "execution_count": 22
    }
   ],
   "source": [
    "df2 = df.apply(lambda x : pd.to_numeric(x, errors='coerce')) #Storing a converted version of df using pd.to_numeric()\n",
    "df2.transpose()"
   ]
  },
  {
   "source": [
    "The 5th value in NJ was an alpha character and therefore errored during the data type conversion."
   ],
   "cell_type": "markdown",
   "metadata": {}
  },
  {
   "cell_type": "code",
   "execution_count": 23,
   "metadata": {},
   "outputs": [
    {
     "output_type": "execute_result",
     "data": {
      "text/plain": [
       "      0     1     2     3     4\n",
       "PA  5.0  10.0  15.0  20.0  80.0\n",
       "NJ  5.0  10.0  15.0  20.0   NaN"
      ],
      "text/html": "<div>\n<style scoped>\n    .dataframe tbody tr th:only-of-type {\n        vertical-align: middle;\n    }\n\n    .dataframe tbody tr th {\n        vertical-align: top;\n    }\n\n    .dataframe thead th {\n        text-align: right;\n    }\n</style>\n<table border=\"1\" class=\"dataframe\">\n  <thead>\n    <tr style=\"text-align: right;\">\n      <th></th>\n      <th>0</th>\n      <th>1</th>\n      <th>2</th>\n      <th>3</th>\n      <th>4</th>\n    </tr>\n  </thead>\n  <tbody>\n    <tr>\n      <th>PA</th>\n      <td>5.0</td>\n      <td>10.0</td>\n      <td>15.0</td>\n      <td>20.0</td>\n      <td>80.0</td>\n    </tr>\n    <tr>\n      <th>NJ</th>\n      <td>5.0</td>\n      <td>10.0</td>\n      <td>15.0</td>\n      <td>20.0</td>\n      <td>NaN</td>\n    </tr>\n  </tbody>\n</table>\n</div>"
     },
     "metadata": {},
     "execution_count": 23
    }
   ],
   "source": [
    "df2.apply(lambda x: x * 5).transpose() # Multiplies the values by 5"
   ]
  },
  {
   "source": [
    "Now all values have been multiplied by 5, with the exception of NJ's 5th value, because it was an alpha character."
   ],
   "cell_type": "markdown",
   "metadata": {}
  }
 ]
}