{
 "metadata": {
  "language_info": {
   "codemirror_mode": {
    "name": "ipython",
    "version": 3
   },
   "file_extension": ".py",
   "mimetype": "text/x-python",
   "name": "python",
   "nbconvert_exporter": "python",
   "pygments_lexer": "ipython3",
   "version": "3.8.5-final"
  },
  "orig_nbformat": 2,
  "kernelspec": {
   "name": "python385jvsc74a57bd0c88ce19b7901f31b9afaea832c420e53db60c0ac953f532b4c17b7b2e6d7b566",
   "display_name": "Python 3.8.5 64-bit (conda)"
  }
 },
 "nbformat": 4,
 "nbformat_minor": 2,
 "cells": [
  {
   "source": [
    "# Chapter 10 Exercise 1"
   ],
   "cell_type": "markdown",
   "metadata": {}
  },
  {
   "source": [
    "#### Write a function called nested_sum that takes a nested list of integers and add up the elements from all of the nested lists."
   ],
   "cell_type": "markdown",
   "metadata": {}
  },
  {
   "cell_type": "code",
   "execution_count": 6,
   "metadata": {},
   "outputs": [
    {
     "output_type": "stream",
     "name": "stdout",
     "text": [
      "List 1 = [38]\nList 2 = [74, 52, 91, 83, 36, 80]\nList 3 = [79, 18, 9, 99]\nNested List = [[38], [74, 52, 91, 83, 36, 80], [79, 18, 9, 99]]\nThe sum of all the numbers in the nested lists = 659\n"
     ]
    }
   ],
   "source": [
    "# Import Random Library to generate lists\n",
    "import random\n",
    "\n",
    "# New Class to house the Random Nested List\n",
    "class Random_Nested_List:\n",
    "\n",
    "    # Initialize the parameters of the created object\n",
    "    def __init__(self):\n",
    "        self.master_list = [] #List containing Nested Lists\n",
    "        self.list_counter = 0 #Counts the number of nested lists\n",
    "\n",
    "    # Adds a new random length list to the Master List\n",
    "    def append_nested_list(self):\n",
    "        self.list_counter += 1\n",
    "        new_list = []\n",
    "        random_list_length = random.randint(1,9) # Choses a random list length from 1 - 9\n",
    "        for i in range(random_list_length):\n",
    "            new_list.append(random.randint(0,100)) # Appends a random integer between 0 and 100 to the nested liest\n",
    "        print(f'List {self.list_counter} = {new_list}')\n",
    "        self.master_list.append(new_list) # Appends the nested list to the Master List\n",
    "    \n",
    "    # Determines the Sum of all values in the Master List\n",
    "    def nested_sum(self):\n",
    "        total_list = []\n",
    "        for i in range(self.list_counter): # Takes each nested list and extends it in the Total List\n",
    "            total_list.extend(self.master_list[i])\n",
    "        print(f'The sum of all the numbers in the nested lists = {sum(total_list)}')\n",
    "        \n",
    "# Creates a new list object in the Random_Nested_List Class\n",
    "def create_nested_list(length_nest_list):\n",
    "    new_nested_list = Random_Nested_List()\n",
    "    for i in range(length_nest_list):\n",
    "        new_nested_list.append_nested_list()\n",
    "    print(f'Nested List = {new_nested_list.master_list}')\n",
    "    new_nested_list.nested_sum()\n",
    "\n",
    "# Main Function that calls on the create_nested_list() method and passes the length of the list\n",
    "def main():\n",
    "    master_list_length = 3\n",
    "    create_nested_list(master_list_length)\n",
    "\n",
    "main()"
   ]
  }
 ]
}