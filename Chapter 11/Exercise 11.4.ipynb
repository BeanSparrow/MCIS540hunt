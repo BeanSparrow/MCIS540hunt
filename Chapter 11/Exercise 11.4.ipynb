{
 "metadata": {
  "language_info": {
   "codemirror_mode": {
    "name": "ipython",
    "version": 3
   },
   "file_extension": ".py",
   "mimetype": "text/x-python",
   "name": "python",
   "nbconvert_exporter": "python",
   "pygments_lexer": "ipython3",
   "version": "3.8.5"
  },
  "orig_nbformat": 2,
  "kernelspec": {
   "name": "python385jvsc74a57bd0c88ce19b7901f31b9afaea832c420e53db60c0ac953f532b4c17b7b2e6d7b566",
   "display_name": "Python 3.8.5 64-bit ('base': conda)"
  }
 },
 "nbformat": 4,
 "nbformat_minor": 2,
 "cells": [
  {
   "source": [
    "# Chapter 11"
   ],
   "cell_type": "markdown",
   "metadata": {}
  },
  {
   "source": [
    "#### Modify reverse_lookup so that it builds and returns a list of all keys that map to v, or an empty list if there are none."
   ],
   "cell_type": "markdown",
   "metadata": {}
  },
  {
   "source": [
    "#### Original Code:"
   ],
   "cell_type": "markdown",
   "metadata": {}
  },
  {
   "cell_type": "code",
   "execution_count": 4,
   "metadata": {},
   "outputs": [
    {
     "output_type": "stream",
     "name": "stdout",
     "text": [
      "r\n"
     ]
    }
   ],
   "source": [
    "def histogram(s):\n",
    "    d = {}\n",
    "    for c in s:\n",
    "        dict_value = d.get(c,0) \n",
    "        d[c] = dict_value + 1 \n",
    "    return d\n",
    "    \n",
    "def reverse_lookup(d, v):\n",
    "    for k in d:\n",
    "        if d[k] == v:\n",
    "            return k\n",
    "    raise ValueError\n",
    "\n",
    "def main():\n",
    "    h = histogram('parrot')\n",
    "    k = reverse_lookup(h, 2)\n",
    "    print(k)\n",
    "\n",
    "main()"
   ]
  },
  {
   "source": [
    "#### New Code:"
   ],
   "cell_type": "markdown",
   "metadata": {}
  },
  {
   "cell_type": "code",
   "execution_count": 8,
   "metadata": {},
   "outputs": [
    {
     "output_type": "stream",
     "name": "stdout",
     "text": [
      "['p', 'a', 'o', 't']\n"
     ]
    }
   ],
   "source": [
    "def histogram(s):\n",
    "    d = {}\n",
    "    for c in s:\n",
    "        dict_value = d.get(c,0) \n",
    "        d[c] = dict_value + 1 \n",
    "    return d\n",
    "    \n",
    "def reverse_lookup(d, v):\n",
    "    list = []\n",
    "    for k in d:\n",
    "        if d[k] == v:\n",
    "            list.append(k)\n",
    "    return list\n",
    "    raise ValueError\n",
    "\n",
    "def main():\n",
    "    h = histogram('parrot')\n",
    "    k = reverse_lookup(h, 1)\n",
    "    print(k)\n",
    "\n",
    "main()"
   ]
  }
 ]
}