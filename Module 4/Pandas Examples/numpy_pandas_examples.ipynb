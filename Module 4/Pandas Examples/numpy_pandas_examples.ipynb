{
 "metadata": {
  "language_info": {
   "codemirror_mode": {
    "name": "ipython",
    "version": 3
   },
   "file_extension": ".py",
   "mimetype": "text/x-python",
   "name": "python",
   "nbconvert_exporter": "python",
   "pygments_lexer": "ipython3",
   "version": "3.8.5"
  },
  "orig_nbformat": 2,
  "kernelspec": {
   "name": "python385jvsc74a57bd0c88ce19b7901f31b9afaea832c420e53db60c0ac953f532b4c17b7b2e6d7b566",
   "display_name": "Python 3.8.5 64-bit ('base': conda)"
  }
 },
 "nbformat": 4,
 "nbformat_minor": 2,
 "cells": [
  {
   "cell_type": "code",
   "execution_count": 1,
   "metadata": {},
   "outputs": [
    {
     "output_type": "stream",
     "name": "stdout",
     "text": [
      "   month  avg_high  avg_low  record_high  record_low  avg_percipitation\n0    Jan        58       42           74          22               2.95\n1    Feb        61       45           78          26               3.02\n2    Mar        65       48           84          25               2.34\n3    Apr        67       50           92          28               1.02\n4    May        71       53           98          35               0.48\n5    Jun        75       56          107          41               0.11\n6    Jul        77       58          105          44               0.00\n7    Aug        77       59          102          43               0.03\n8    Sep        77       57          103          40               0.17\n9    Oct        73       54           96          34               0.81\n10   Nov        64       48           84          30               1.70\n11   Dec        58       42           73          21               2.56\n"
     ]
    }
   ],
   "source": [
    "import numpy as np\n",
    "import pandas as pd\n",
    "\n",
    "\n",
    "df = pd.DataFrame(\n",
    "    [['Jan', 58, 42, 74, 22, 2.95],\n",
    "     ['Feb', 61, 45, 78, 26, 3.02],\n",
    "     ['Mar', 65, 48, 84, 25, 2.34],\n",
    "     ['Apr', 67, 50, 92, 28, 1.02],\n",
    "     ['May', 71, 53, 98, 35, 0.48],\n",
    "     ['Jun', 75, 56, 107, 41, 0.11],\n",
    "     ['Jul', 77, 58, 105, 44, 0.0],\n",
    "     ['Aug', 77, 59, 102, 43, 0.03],\n",
    "     ['Sep', 77, 57, 103, 40, 0.17],\n",
    "     ['Oct', 73, 54, 96, 34, 0.81],\n",
    "     ['Nov', 64, 48, 84, 30, 1.7],\n",
    "     ['Dec', 58, 42, 73, 21, 2.56]],\n",
    "    index=[0, 1, 2, 3, 4, 5, 6, 7, 8, 9, 10, 11],\n",
    "    columns=['month', 'avg_high', 'avg_low', 'record_high', 'record_low', 'avg_percipitation'])\n",
    "\n",
    "print(df)"
   ]
  },
  {
   "cell_type": "code",
   "execution_count": null,
   "metadata": {},
   "outputs": [],
   "source": []
  }
 ]
}