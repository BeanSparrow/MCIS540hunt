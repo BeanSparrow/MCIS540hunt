{
 "metadata": {
  "language_info": {
   "codemirror_mode": {
    "name": "ipython",
    "version": 3
   },
   "file_extension": ".py",
   "mimetype": "text/x-python",
   "name": "python",
   "nbconvert_exporter": "python",
   "pygments_lexer": "ipython3",
   "version": "3.8.5"
  },
  "orig_nbformat": 2,
  "kernelspec": {
   "name": "python385jvsc74a57bd0c88ce19b7901f31b9afaea832c420e53db60c0ac953f532b4c17b7b2e6d7b566",
   "display_name": "Python 3.8.5 64-bit ('base': conda)"
  }
 },
 "nbformat": 4,
 "nbformat_minor": 2,
 "cells": [
  {
   "source": [
    "# Module 3 Assignment\n",
    "#### Created By: Steven Hunt"
   ],
   "cell_type": "markdown",
   "metadata": {}
  },
  {
   "source": [
    "#### Problem 3.1:\n",
    "#### Transform your code from assignment 2.3 (Pig Latin game) into a function, pig_latin, that takes parameters, instead of asking the user for input. Make sure to return your answer rather than printing it."
   ],
   "cell_type": "markdown",
   "metadata": {}
  },
  {
   "cell_type": "code",
   "execution_count": 23,
   "metadata": {},
   "outputs": [
    {
     "output_type": "stream",
     "name": "stdout",
     "text": [
      "Ellohay\n"
     ]
    }
   ],
   "source": [
    "# Function that converts passed strings to Pig Latin\n",
    "def pig_latin(string):\n",
    "    if string[0].lower() in 'aeiou':\n",
    "        return string + 'hay'\n",
    "    else:\n",
    "        return string[1:] + string[0].lower() + 'ay'\n",
    "\n",
    "# Main Function\n",
    "def main():\n",
    "    word = 'Hello' # Word to pass to pig_latin()\n",
    "    pig_latin_word = pig_latin(word)\n",
    "    print(pig_latin_word.capitalize())\n",
    "\n",
    "if __name__ == '__main__':\n",
    "    main()\n"
   ]
  },
  {
   "source": [
    "#### Problem 3.2:\n",
    "#### Write a function, roll_dice, that takes in 2 parameters - the number of sides of the die, and the number of dice to roll - and generates random roll values for each die rolled. Print out each roll and then return the string “That’s all!” An example output:\n",
    "#### >>> roll_dice(6, 3)\n",
    "#### 4\n",
    "#### 1\n",
    "#### 6\n",
    "#### That’s all!\n"
   ],
   "cell_type": "markdown",
   "metadata": {}
  },
  {
   "cell_type": "code",
   "execution_count": 7,
   "metadata": {},
   "outputs": [
    {
     "output_type": "stream",
     "name": "stdout",
     "text": [
      "4\n4\n0\nThat's all!\n"
     ]
    }
   ],
   "source": [
    "# Library random used for generating random numbers\n",
    "import random\n",
    "\n",
    "# Function that Simulates Dice rolling, takes number of sides and dice as parameters\n",
    "def roll_dice(sides, num):\n",
    "    for i in range(num):\n",
    "        print(random.randint(0, sides))\n",
    "    print(\"That's all!\")\n",
    "\n",
    "# Main Function\n",
    "def main():\n",
    "    roll_dice(6,3) # Calls roll_dice() for 3, 6-sided die\n",
    "\n",
    "if __name__ == '__main__':\n",
    "    main()"
   ]
  },
  {
   "source": [
    "#### Problem 3.3:\n",
    "#### Write a function, is_palindrome, which takes a string as parameter, and returns True if the string is a palindrome (meaning it is the same forwards as backwards), and False otherwise. For an additional challenge, try writing this as a recursive function.\n"
   ],
   "cell_type": "markdown",
   "metadata": {}
  },
  {
   "cell_type": "code",
   "execution_count": 11,
   "metadata": {},
   "outputs": [
    {
     "output_type": "stream",
     "name": "stdout",
     "text": [
      "Yes \"racecar\" is a palindrome!\n"
     ]
    }
   ],
   "source": [
    "# Function that checks a string to determine if it's a palindrome\n",
    "def is_palindrome(str):\n",
    "    for i in range(int(len(str)/2)): # Uses half of string length as range\n",
    "        if str[i] == str[len(str)-i-1]: # Compares each character in a string with its inverted counterpart\n",
    "            return True\n",
    "    return False\n",
    "\n",
    "# Main Function\n",
    "def main():\n",
    "    str = 'racecar' # String to test\n",
    "    result = is_palindrome(str) # Stores returned boolean from is_palindrome\n",
    "    if result:\n",
    "        print(f'Yes \"{str}\" is a palindrome!')\n",
    "    else:\n",
    "        print(f'No \"{str}\" is not a palindrome.')\n",
    "\n",
    "if __name__ == '__main__':\n",
    "    main()"
   ]
  }
 ]
}