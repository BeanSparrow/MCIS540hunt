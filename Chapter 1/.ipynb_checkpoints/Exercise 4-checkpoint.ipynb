{
 "cells": [
  {
   "cell_type": "markdown",
   "metadata": {},
   "source": [
    "# Chapter 1 Exercise 4"
   ]
  },
  {
   "cell_type": "markdown",
   "metadata": {},
   "source": [
    "#### Problem: If you run a 10 kilometer race in 43 minutes 30 seconds, what is your average time per mile? What is your average speed in miles per hour? (Hint: there are 1.61 kilometers in a mile)."
   ]
  },
  {
   "cell_type": "code",
   "execution_count": 4,
   "metadata": {},
   "outputs": [
    {
     "name": "stdout",
     "output_type": "stream",
     "text": [
      "8.57 mph\n",
      "Average 7 minutes and 0 seconds per mile\n"
     ]
    }
   ],
   "source": [
    "# Libraries\n",
    "import math\n",
    "\n",
    "# Converts Race Time to Seconds\n",
    "def timeInSeconds(hours, minutes, seconds):\n",
    "    hourConverter = 60 ** 2\n",
    "    minuteConverter = 60\n",
    "    return ((hours * hourConverter) + (minutes * minuteConverter) + seconds)\n",
    "\n",
    "# Converts Input Kilometers to Miles\n",
    "def kiloToMile(kilometers):\n",
    "    kiloPerMile = 1.61\n",
    "    return (kilometers / kiloPerMile)\n",
    "\n",
    "# Calculates Miles Per Hour based on input miles and seconds\n",
    "def milesPerHourCalculator(distanceMiles, timeSeconds):\n",
    "    milesPerHour = round((3600 / timeSeconds) * distanceMiles, 2)\n",
    "    print(f'{milesPerHour} mph')\n",
    "\n",
    "# Calculates Average Time per Mile and prints result\n",
    "def timePerMileCalculator(miles, timeInSeconds):\n",
    "    totalSecondsPerMile = math.floor(timeInSeconds / miles)\n",
    "    minutesPerMile = math.floor(totalSecondsPerMile / 60)\n",
    "    secondsPerMile = totalSecondsPerMile - (minutesPerMile * 60)\n",
    "    print(f'Average {minutesPerMile} minutes and {secondsPerMile} seconds per mile')\n",
    "\n",
    "# Main Function Contains Variable Declaration\n",
    "def main():\n",
    "    raceDistanceKilo = 10\n",
    "    raceTimeHour = 0\n",
    "    raceTimeMinute = 43\n",
    "    raceTimeSecond = 30\n",
    "    milesPerHourCalculator(kiloToMile(raceDistanceKilo), timeInSeconds(raceTimeHour, raceTimeMinute, raceTimeSecond))\n",
    "    timePerMileCalculator(kiloToMile(raceDistanceKilo), timeInSeconds(raceTimeHour, raceTimeMinute, raceTimeSecond))\n",
    "\n",
    "main()"
   ]
  }
 ],
 "metadata": {
  "kernelspec": {
   "display_name": "Python 3",
   "language": "python",
   "name": "python3"
  },
  "language_info": {
   "codemirror_mode": {
    "name": "ipython",
    "version": 3
   },
   "file_extension": ".py",
   "mimetype": "text/x-python",
   "name": "python",
   "nbconvert_exporter": "python",
   "pygments_lexer": "ipython3",
   "version": "3.8.5"
  }
 },
 "nbformat": 4,
 "nbformat_minor": 4
}
