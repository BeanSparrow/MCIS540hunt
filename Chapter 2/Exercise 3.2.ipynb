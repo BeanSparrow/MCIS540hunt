{
 "cells": [
  {
   "cell_type": "markdown",
   "metadata": {},
   "source": [
    "# Chapter 2 Exercise 3.2"
   ]
  },
  {
   "cell_type": "markdown",
   "metadata": {},
   "source": [
    "#### Problem:\n",
    "\n",
    "#### Suppose the cover price of a book is \\\\$24.95, but bookstores get a 40% discount. Shipping costs \\\\$3 for the first copy and 75 cents for each additional copy. What is the total wholesale cost for 60 copies?"
   ]
  },
  {
   "cell_type": "code",
   "execution_count": 1,
   "metadata": {},
   "outputs": [
    {
     "name": "stdout",
     "output_type": "stream",
     "text": [
      "$646.05\n"
     ]
    }
   ],
   "source": [
    "#Libraries\n",
    "import math\n",
    "\n",
    "# Determines the Shipping Cost Based on Number of Books\n",
    "def shipCost(quantityBooks):\n",
    "    return ((quantityBooks - 1) * 75) + 300\n",
    "\n",
    "# Determines the Price per Book after Discount\n",
    "def pricePerBook(priceCents, discount):\n",
    "    return round(priceCents * (discount / 100),)\n",
    "\n",
    "# Determines the Total Cost of the books plus shipping\n",
    "def totalCostDollars(shipCost, pricePerBook, quantityBooks):\n",
    "    totalCost = (((pricePerBook * quantityBooks) + shipCost)/100)\n",
    "    print(f'${totalCost}')\n",
    "\n",
    "# Main Function contains Variable Declarations\n",
    "def main():\n",
    "    priceCents = 2495\n",
    "    discountPercentage = 40\n",
    "    quantityBooks = 60\n",
    "    totalCostDollars(shipCost(quantityBooks), pricePerBook(\n",
    "        priceCents, discountPercentage), quantityBooks)\n",
    "\n",
    "main()"
   ]
  }
 ],
 "metadata": {
  "kernelspec": {
   "display_name": "Python 3",
   "language": "python",
   "name": "python3"
  },
  "language_info": {
   "codemirror_mode": {
    "name": "ipython",
    "version": 3
   },
   "file_extension": ".py",
   "mimetype": "text/x-python",
   "name": "python",
   "nbconvert_exporter": "python",
   "pygments_lexer": "ipython3",
   "version": "3.8.5"
  }
 },
 "nbformat": 4,
 "nbformat_minor": 4
}
