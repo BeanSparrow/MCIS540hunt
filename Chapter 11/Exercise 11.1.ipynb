{
 "metadata": {
  "language_info": {
   "codemirror_mode": {
    "name": "ipython",
    "version": 3
   },
   "file_extension": ".py",
   "mimetype": "text/x-python",
   "name": "python",
   "nbconvert_exporter": "python",
   "pygments_lexer": "ipython3",
   "version": "3.8.5-final"
  },
  "orig_nbformat": 2,
  "kernelspec": {
   "name": "python385jvsc74a57bd0c88ce19b7901f31b9afaea832c420e53db60c0ac953f532b4c17b7b2e6d7b566",
   "display_name": "Python 3.8.5 64-bit (conda)"
  }
 },
 "nbformat": 4,
 "nbformat_minor": 2,
 "cells": [
  {
   "source": [
    "# Chapter 11 Exercise 1"
   ],
   "cell_type": "markdown",
   "metadata": {}
  },
  {
   "source": [
    "#### Write a function that reads the words in words.txt and stores them as keys in a dictionary. It doesn’t matter what the values are. Then you can use the in operator as a fast way to check whether a string is in the dictionary."
   ],
   "cell_type": "markdown",
   "metadata": {}
  },
  {
   "cell_type": "code",
   "execution_count": 22,
   "metadata": {
    "tags": []
   },
   "outputs": [
    {
     "output_type": "stream",
     "name": "stdout",
     "text": [
      "Yes \"zoysia\" is in the dictionary\n"
     ]
    }
   ],
   "source": [
    "# Created a Dictionary Class\n",
    "class Dictionary_Of_Words:\n",
    "\n",
    "    # Initializing with a list name and txt file path\n",
    "    def __init__(self, name, path):\n",
    "        self.name = name\n",
    "        self.path = path\n",
    "        self.word_dict = {}\n",
    "\n",
    "    # Opens the path and adds every line as a string into the dictionary\n",
    "    def create_dictionary(self):\n",
    "        file = open(self.path)\n",
    "        word_counter = 0\n",
    "        for word in file:\n",
    "            self.word_dict[word.strip()] = word_counter # Strip() is used to eliminate the '\\n' from the line string\n",
    "            word_counter += 1 # used a counter for values to easily index\n",
    "        file.close()\n",
    "\n",
    "    # Takes any string value passed and checks if that string is a key in the dictionary    \n",
    "    def check_if_in(self, word):\n",
    "        if word in self.word_dict.keys():\n",
    "            print(f'Yes \"{word}\" is a key in the dictionary')\n",
    "        else:\n",
    "            print(f'No \"{word}\" is not a key in the dictionary')\n",
    "\n",
    "# Main Function with the txt file path and creates the dictionary object        \n",
    "def main():\n",
    "    path = 'words.txt'\n",
    "    word_to_check = 'zoysia'\n",
    "    dictionary_one = Dictionary_Of_Words('Dictionary 1', path)\n",
    "    dictionary_one.create_dictionary()\n",
    "    dictionary_one.check_if_in(word_to_check)\n",
    "\n",
    "main()"
   ]
  },
  {
   "cell_type": "code",
   "execution_count": null,
   "metadata": {},
   "outputs": [],
   "source": [
    "\n"
   ]
  }
 ]
}