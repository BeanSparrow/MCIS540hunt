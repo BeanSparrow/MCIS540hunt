{
 "metadata": {
  "language_info": {
   "codemirror_mode": {
    "name": "ipython",
    "version": 3
   },
   "file_extension": ".py",
   "mimetype": "text/x-python",
   "name": "python",
   "nbconvert_exporter": "python",
   "pygments_lexer": "ipython3",
   "version": "3.8.5-final"
  },
  "orig_nbformat": 2,
  "kernelspec": {
   "name": "python385jvsc74a57bd0c88ce19b7901f31b9afaea832c420e53db60c0ac953f532b4c17b7b2e6d7b566",
   "display_name": "Python 3.8.5 64-bit (conda)"
  }
 },
 "nbformat": 4,
 "nbformat_minor": 2,
 "cells": [
  {
   "source": [
    "# Chapter 11 Exercise 3"
   ],
   "cell_type": "markdown",
   "metadata": {}
  },
  {
   "source": [
    "#### Dictionaries have a method called keys that returns the keys of the dictionary, in no particular order, as a list.\n",
    "\n",
    "#### Modify print_hist to print the keys and their values in alphabetical order. \n",
    "\n",
    "#### Original Code:"
   ],
   "cell_type": "markdown",
   "metadata": {}
  },
  {
   "cell_type": "code",
   "execution_count": 9,
   "metadata": {},
   "outputs": [
    {
     "output_type": "stream",
     "name": "stdout",
     "text": [
      "p 1\na 1\nr 2\no 1\nt 1\n"
     ]
    }
   ],
   "source": [
    "def histogram(s):\n",
    "    d = {}\n",
    "    for c in s:\n",
    "        dict_value = d.get(c,0) \n",
    "        d[c] = dict_value + 1 \n",
    "    return d\n",
    "\n",
    "def print_hist(h):\n",
    "    for c in h:\n",
    "        print(c, h[c])\n",
    "\n",
    "def main():\n",
    "    h = histogram('parrot')\n",
    "    print_hist(h)\n",
    "\n",
    "main()"
   ]
  },
  {
   "source": [
    "#### New Code:"
   ],
   "cell_type": "markdown",
   "metadata": {}
  },
  {
   "cell_type": "code",
   "execution_count": 15,
   "metadata": {},
   "outputs": [
    {
     "output_type": "stream",
     "name": "stdout",
     "text": [
      "a 1\no 1\np 1\nr 2\nt 1\n"
     ]
    }
   ],
   "source": [
    "def histogram(s):\n",
    "    d = {}\n",
    "    for c in s:\n",
    "        dict_value = d.get(c,0) \n",
    "        d[c] = dict_value + 1 \n",
    "    return d\n",
    "\n",
    "def print_hist(h):\n",
    "    for c in sorted(h.keys()): # Sorted() changes the dictionary order to alphabetical\n",
    "        print(c, h[c])\n",
    "\n",
    "def main():\n",
    "    h = histogram('parrot')\n",
    "    print_hist(h)\n",
    "\n",
    "main()"
   ]
  }
 ]
}