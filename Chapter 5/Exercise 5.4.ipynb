{
 "cells": [
  {
   "cell_type": "markdown",
   "metadata": {},
   "source": [
    "# Chapter 5 Exercise 4"
   ]
  },
  {
   "cell_type": "markdown",
   "metadata": {},
   "source": [
    "#### Problem\n",
    "\n",
    "#### If you are given three sticks, you may or may not be able to arrange them in a triangle. For example, if one of the sticks is 12 inches long and the other two are one inch long, it is clear that you will not be able to get the short sticks to meet in the middle. For any three lengths, there is a simple test to see if it is possible to form a triangle:\n",
    "\n",
    "#### If any of the three lengths is greater than the sum of the other two, then you cannot form a triangle. Otherwise, you can. (If the sum of two lengths equals the third, they form what is called a “degenerate” triangle.)\n",
    "\n",
    "#### Write a function named is_triangle that takes three integers as arguments, and that prints either “Yes” or “No,” depending on whether you can or cannot form a triangle from sticks with the given lengths.\n",
    "#### Write the function so that it prompts the user to input three stick lengths, converts them to integers, and uses is_triangle to check whether sticks with the given lengths can form a triangle."
   ]
  },
  {
   "cell_type": "code",
   "execution_count": 4,
   "metadata": {},
   "outputs": [
    {
     "name": "stdout",
     "output_type": "stream",
     "text": [
      "Input the integer length of the three sticks.\n",
      "asd 123 132\n",
      "That is an invalid value, please try again.\n",
      "Input the integer length of the three sticks.\n",
      "12 39 28\n",
      "Yes\n"
     ]
    }
   ],
   "source": [
    "# Request Stick Length for Three Sticks\n",
    "def get_stick_lengths():\n",
    "    loopFlag = True\n",
    "    sticks_arr = []\n",
    "    while loopFlag:\n",
    "        try:\n",
    "            stick1, stick2, stick3 = map(int, input(\n",
    "                'Input the integer length of the three sticks.\\n').split())\n",
    "            loopFlag = False\n",
    "        except:\n",
    "            print('That is an invalid value, please try again.')\n",
    "    sticks_arr.append(stick1)\n",
    "    sticks_arr.append(stick2)\n",
    "    sticks_arr.append(stick3)\n",
    "    return sticks_arr\n",
    "\n",
    "# Calculates Sum of Input Stick Values\n",
    "def get_sums(sticks):\n",
    "    sums_arr = []\n",
    "    sums_arr.append(sticks[0]+sticks[1])\n",
    "    sums_arr.append(sticks[1]+sticks[2])\n",
    "    sums_arr.append(sticks[0]+sticks[2])\n",
    "    return sums_arr\n",
    "\n",
    "# Calculates if Triangle is Possible\n",
    "def is_triangle(sums, sticks):\n",
    "    possible = True\n",
    "    for i in range(3):\n",
    "        for j in range(3):\n",
    "            if sticks[j-1] > sums[i-1]:\n",
    "                possible = False\n",
    "    if possible == True:\n",
    "        print('Yes')\n",
    "    else:\n",
    "        print('No')\n",
    "\n",
    "def main():\n",
    "    sticks_arr = get_stick_lengths()\n",
    "    sums_arr = get_sums(sticks_arr)\n",
    "    is_triangle(sums_arr, sticks_arr)\n",
    "\n",
    "main()"
   ]
  }
 ],
 "metadata": {
  "kernelspec": {
   "display_name": "Python 3",
   "language": "python",
   "name": "python3"
  },
  "language_info": {
   "codemirror_mode": {
    "name": "ipython",
    "version": 3
   },
   "file_extension": ".py",
   "mimetype": "text/x-python",
   "name": "python",
   "nbconvert_exporter": "python",
   "pygments_lexer": "ipython3",
   "version": "3.8.5"
  }
 },
 "nbformat": 4,
 "nbformat_minor": 4
}
