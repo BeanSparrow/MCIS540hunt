{
 "cells": [
  {
   "cell_type": "markdown",
   "metadata": {},
   "source": [
    "# Chapter 2 Exercise 3.3"
   ]
  },
  {
   "cell_type": "markdown",
   "metadata": {},
   "source": [
    "#### Problem:\n",
    "\n",
    "#### If I leave my house at 6:52 am and run 1 mile at an easy pace (8:15 per mile), then 3 miles at tempo (7:12 per mile) and 1 mile at easy pace again, what time do I get home for breakfast?"
   ]
  },
  {
   "cell_type": "code",
   "execution_count": 1,
   "metadata": {},
   "outputs": [
    {
     "name": "stdout",
     "output_type": "stream",
     "text": [
      "7:30 am\n"
     ]
    }
   ],
   "source": [
    "# Libraries\n",
    "import math\n",
    "\n",
    "# Calculate Total Time running in Seconds\n",
    "def timeAdditionSeconds(milesEasy, milesTempo):\n",
    "  easyPaceMinutes = 8\n",
    "  easyPaceSeconds = 15\n",
    "  tempoPaceMinutes = 7\n",
    "  tempoPaceSeconds = 12\n",
    "  totalMinutes = ((milesEasy * easyPaceMinutes) + (milesTempo * tempoPaceMinutes))\n",
    "  totalSeconds = ((totalMinutes * 60) + (milesEasy * easyPaceSeconds) + (milesTempo * tempoPaceSeconds))\n",
    "  return totalSeconds\n",
    "\n",
    "# Determine New Time after Run\n",
    "def newTime(initialTimeHour, initialTimeMinute, addedTime):\n",
    "  morningOrNight = 'am'\n",
    "  newTimeHour = initialTimeHour\n",
    "  newTimeMinute = math.floor(addedTime / 60 + initialTimeMinute)\n",
    "  while newTimeMinute >= 60:\n",
    "    newTimeMinute -= 60\n",
    "    newTimeHour += 1\n",
    "  if newTimeHour >= 12:\n",
    "    morningOrNight = 'pm'\n",
    "  print(f'{newTimeHour}:{newTimeMinute} {morningOrNight}')\n",
    "\n",
    "def main():\n",
    "  initialTimeHour = 6\n",
    "  initialTimeMinute = 52\n",
    "  milesEasy = 2\n",
    "  milesTempo = 3\n",
    "  newTime(initialTimeHour, initialTimeMinute, timeAdditionSeconds(milesEasy, milesTempo)) \n",
    "\n",
    "main()"
   ]
  }
 ],
 "metadata": {
  "kernelspec": {
   "display_name": "Python 3",
   "language": "python",
   "name": "python3"
  },
  "language_info": {
   "codemirror_mode": {
    "name": "ipython",
    "version": 3
   },
   "file_extension": ".py",
   "mimetype": "text/x-python",
   "name": "python",
   "nbconvert_exporter": "python",
   "pygments_lexer": "ipython3",
   "version": "3.8.5"
  }
 },
 "nbformat": 4,
 "nbformat_minor": 4
}
